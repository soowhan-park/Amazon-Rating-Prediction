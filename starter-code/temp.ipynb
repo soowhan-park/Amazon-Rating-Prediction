{
 "cells": [
  {
   "cell_type": "code",
   "execution_count": 8,
   "metadata": {},
   "outputs": [
    {
     "name": "stdout",
     "output_type": "stream",
     "text": [
      "train.csv shape is  (1697533, 9)\n",
      "test.csv shape is  (300000, 2)\n",
      "\n",
      "   Id   ProductId          UserId  HelpfulnessNumerator  \\\n",
      "0   0  0005019281   ADZPIG9QOCDG5                     0   \n",
      "1   1  0005019281  A35947ZP82G7JH                     0   \n",
      "2   2  0005019281  A3UORV8A9D5L2E                     0   \n",
      "3   3  0005019281  A1VKW06X1O2X7V                     0   \n",
      "4   4  0005019281  A3R27T4HADWFFJ                     0   \n",
      "\n",
      "   HelpfulnessDenominator  Score        Time  \\\n",
      "0                       0    4.0  1203984000   \n",
      "1                       0    3.0  1388361600   \n",
      "2                       0    3.0  1388361600   \n",
      "3                       0    5.0  1202860800   \n",
      "4                       0    4.0  1387670400   \n",
      "\n",
      "                                        Summary  \\\n",
      "0                     good version of a classic   \n",
      "1                        Good but not as moving   \n",
      "2         Winkler's Performance was ok at best!   \n",
      "3  It's an enjoyable twist on the classic story   \n",
      "4                              Best Scrooge yet   \n",
      "\n",
      "                                                Text  \n",
      "0  This is a charming version of the classic Dick...  \n",
      "1  It was good but not as emotionally moving as t...  \n",
      "2  Don't get me wrong, Winkler is a wonderful cha...  \n",
      "3  Henry Winkler is very good in this twist on th...  \n",
      "4  This is one of the best Scrooge movies out.  H...  \n",
      "\n",
      "this is testingset\n",
      "   Id  Score\n",
      "0   5    NaN\n",
      "1  11    NaN\n",
      "2  17    NaN\n",
      "3  46    NaN\n",
      "4  47    NaN\n",
      "\n",
      "                 Id  HelpfulnessNumerator  HelpfulnessDenominator  \\\n",
      "count  1.697533e+06          1.697533e+06            1.697533e+06   \n",
      "mean   8.487660e+05          3.569048e+00            5.301422e+00   \n",
      "std    4.900357e+05          1.727883e+01            2.024445e+01   \n",
      "min    0.000000e+00          0.000000e+00            0.000000e+00   \n",
      "25%    4.243830e+05          0.000000e+00            0.000000e+00   \n",
      "50%    8.487660e+05          1.000000e+00            1.000000e+00   \n",
      "75%    1.273149e+06          3.000000e+00            5.000000e+00   \n",
      "max    1.697532e+06          6.084000e+03            6.510000e+03   \n",
      "\n",
      "              Score          Time  \n",
      "count  1.397533e+06  1.697533e+06  \n",
      "mean   4.111468e+00  1.262422e+09  \n",
      "std    1.196808e+00  1.289277e+08  \n",
      "min    1.000000e+00  8.793792e+08  \n",
      "25%    4.000000e+00  1.164413e+09  \n",
      "50%    5.000000e+00  1.307491e+09  \n",
      "75%    5.000000e+00  1.373242e+09  \n",
      "max    5.000000e+00  1.406074e+09  \n"
     ]
    },
    {
     "data": {
      "image/png": "[encoded data removed]",
      "text/plain": [
       "<Figure size 432x288 with 1 Axes>"
      ]
     },
     "metadata": {
      "needs_background": "light"
     },
     "output_type": "display_data"
    }
   ],
   "source": [
    "'''\n",
    "1. Find regression of each features to see the correlation between the ratings \n",
    "2. \n",
    "'''\n",
    "\n",
    "import pandas as pd\n",
    "import matplotlib.pyplot as plt\n",
    "import nltk\n",
    "from nltk.tokenize import word_tokenize\n",
    "from nltk.corpus import stopwords\n",
    "\n",
    "trainingSet = pd.read_csv(\"./data/train.csv\")\n",
    "testingSet = pd.read_csv(\"./data/test.csv\")\n",
    "\n",
    "#trainingSet = trainingSet[:5000]\n",
    "#testingSet = testingSet[:5000]\n",
    "\n",
    "print(\"train.csv shape is \", trainingSet.shape)\n",
    "print(\"test.csv shape is \", testingSet.shape)\n",
    "\n",
    "print()\n",
    "\n",
    "print(trainingSet.head())\n",
    "print()\n",
    "\n",
    "print(\"this is testingset\")\n",
    "print(testingSet.head())\n",
    "\n",
    "print()\n",
    "\n",
    "print(trainingSet.describe())\n",
    "\n",
    "trainingSet['Score'].value_counts().plot(kind='bar', legend=True, alpha=.5)\n",
    "plt.show()\n"
   ]
  },
  {
   "cell_type": "code",
   "execution_count": 2,
   "metadata": {},
   "outputs": [
    {
     "data": {
      "text/plain": [
       "<matplotlib.axes._subplots.AxesSubplot at 0x1878bb4f860>"
      ]
     },
     "execution_count": 2,
     "metadata": {},
     "output_type": "execute_result"
    },
    {
     "data": {
      "image/png": "[encoded data removed]",
      "text/plain": [
       "<Figure size 432x288 with 1 Axes>"
      ]
     },
     "metadata": {
      "needs_background": "light"
     },
     "output_type": "display_data"
    }
   ],
   "source": [
    "trainingSet['Dislike'] = trainingSet['HelpfulnessDenominator'] - trainingSet['HelpfulnessNumerator']\n",
    "trainingSet = trainingSet.loc[trainingSet['HelpfulnessDenominator'] > 15]\n",
    "#trainingSet = trainingSet.loc[trainingSet['Dislike'] < (len(trainingSet['HelpfulnessDenominator']) **0.8)]\n",
    "trainingSet['Score'].value_counts().plot.bar()\n",
    "#print(len(trainingSet[trainingSet['Dislike'] > 10]))"
   ]
  },
  {
   "cell_type": "code",
   "execution_count": 3,
   "metadata": {},
   "outputs": [
    {
     "name": "stdout",
     "output_type": "stream",
     "text": [
      "24629\n"
     ]
    },
    {
     "data": {
      "image/png": "[encoded data removed]",
      "text/plain": [
       "<Figure size 432x288 with 1 Axes>"
      ]
     },
     "metadata": {
      "needs_background": "light"
     },
     "output_type": "display_data"
    }
   ],
   "source": [
    "trainingSet = pd.read_csv(\"./data/train.csv\")\n",
    "trainingSet['Dislike'] = trainingSet['HelpfulnessDenominator'] - trainingSet['HelpfulnessNumerator']\n",
    "trainingSet = trainingSet.loc[trainingSet['HelpfulnessDenominator'] != 0]\n",
    "trainingSet = trainingSet.loc[trainingSet['Dislike'] < (len(trainingSet['HelpfulnessDenominator']) **0.2)]\n",
    "trainingSet['Score'].value_counts().plot.bar()\n",
    "print(len(trainingSet[trainingSet['Dislike'] > 10]))"
   ]
  },
  {
   "cell_type": "code",
   "execution_count": 2,
   "metadata": {},
   "outputs": [
    {
     "name": "stdout",
     "output_type": "stream",
     "text": [
      "52147\n"
     ]
    },
    {
     "data": {
      "image/png": "[encoded data removed]",
      "text/plain": [
       "<Figure size 432x288 with 1 Axes>"
      ]
     },
     "metadata": {
      "needs_background": "light"
     },
     "output_type": "display_data"
    }
   ],
   "source": [
    "trainingSet['Dislike'] = trainingSet['HelpfulnessDenominator'] - trainingSet['HelpfulnessNumerator']\n",
    "trainingSet = trainingSet.loc[trainingSet['HelpfulnessDenominator'] < 20]\n",
    "#trainingSet = trainingSet.loc[trainingSet['Dislike'] < (len(trainingSet['HelpfulnessDenominator']) **0.5)]\n",
    "trainingSet['Score'].value_counts().plot.bar()\n",
    "print(len(trainingSet[trainingSet['Dislike'] > 10]))\n",
    "#trainingSet = trainingSet.loc[(trainingSet['HelpfulnessDenominator'] - trainingSet['HelpfulnessNumerator']) < 10]"
   ]
  },
  {
   "cell_type": "code",
   "execution_count": 11,
   "metadata": {},
   "outputs": [
    {
     "data": {
      "text/plain": [
       "<matplotlib.axes._subplots.AxesSubplot at 0x1e13cb16748>"
      ]
     },
     "execution_count": 11,
     "metadata": {},
     "output_type": "execute_result"
    },
    {
     "data": {
      "image/png": "[encoded data removed]",
      "text/plain": [
       "<Figure size 432x288 with 1 Axes>"
      ]
     },
     "metadata": {
      "needs_background": "light"
     },
     "output_type": "display_data"
    }
   ],
   "source": [
    "trainingSet = trainingSet.loc[trainingSet['Dislike'] < (len(trainingSet['HelpfulnessDenominator']) **0.2) ]\n",
    "trainingSet['Score'].value_counts().plot.bar()"
   ]
  },
  {
   "cell_type": "code",
   "execution_count": null,
   "metadata": {},
   "outputs": [],
   "source": [
    "#trainingSet = trainingSet.drop(['HelpfulnessDenominator','HelpfulnessNumerator','Score','Time'], axis=1)\n",
    "# trainingSet = trainingSet.drop(['ProductId','Id','UserId'], axis=1)\n",
    "# na = trainingSet.columns[trainingSet.isna().any()].tolist()\n",
    "# print(na)\n",
    "\n",
    "# is_NaN = trainingSet.isnull()\n",
    "# row_has_NaN = is_NaN.any(axis=1)\n",
    "# rows_with_NaN = trainingSet[row_has_NaN]\n",
    "# print(rows_with_NaN)\n",
    "#trainingSet[trainingSet['Summary'] == float(\"Nan\")]\n"
   ]
  },
  {
   "cell_type": "code",
   "execution_count": 20,
   "metadata": {},
   "outputs": [
    {
     "data": {
      "text/plain": [
       "<matplotlib.axes._subplots.AxesSubplot at 0x1f2ff99f278>"
      ]
     },
     "execution_count": 20,
     "metadata": {},
     "output_type": "execute_result"
    },
    {
     "data": {
      "image/png": "[encoded data removed]",
      "text/plain": [
       "<Figure size 432x288 with 1 Axes>"
      ]
     },
     "metadata": {
      "needs_background": "light"
     },
     "output_type": "display_data"
    }
   ],
   "source": [
    "trainingSet = pd.read_csv(\"./data/train.csv\")\n",
    "plt.title('How many of each Score is there in the dataset?')\n",
    "plt.xlabel(\"Ratings\")\n",
    "trainingSet['Score'].value_counts().plot.bar()"
   ]
  },
  {
   "cell_type": "code",
   "execution_count": 23,
   "metadata": {},
   "outputs": [
    {
     "data": {
      "text/plain": [
       "<matplotlib.axes._subplots.AxesSubplot at 0x1f2fec89a20>"
      ]
     },
     "execution_count": 23,
     "metadata": {},
     "output_type": "execute_result"
    },
    {
     "data": {
      "image/png": "[encoded data removed]",
      "text/plain": [
       "<Figure size 432x288 with 1 Axes>"
      ]
     },
     "metadata": {
      "needs_background": "light"
     },
     "output_type": "display_data"
    }
   ],
   "source": [
    "plt.title('How many of each Score is there in the dataset?')\n",
    "plt.xlabel(\"Ratings\")\n",
    "trainingSet['Score'].value_counts().plot.bar()"
   ]
  },
  {
   "cell_type": "code",
   "execution_count": null,
   "metadata": {},
   "outputs": [],
   "source": [
    "plt.title('Which users have rated the most products')\n",
    "plt.xlabel(\"User ID\")\n",
    "trainingSet['UserId'].value_counts(sort=True).nlargest(5).plot.bar()\n"
   ]
  },
  {
   "cell_type": "code",
   "execution_count": null,
   "metadata": {},
   "outputs": [],
   "source": [
    "plt.title('Top 10 products with reviews')\n",
    "plt.xlabel(\"Product ID\")\n",
    "print(trainingSet['ProductId'].value_counts(sort=True).nlargest(10))\n",
    "trainingSet['ProductId'].value_counts(sort=True).nlargest(10).plot.bar()\n"
   ]
  },
  {
   "cell_type": "code",
   "execution_count": null,
   "metadata": {},
   "outputs": [],
   "source": [
    "trainingSet[['Score', 'ProductId']].groupby('ProductId').mean().nlargest(25, 'Score').plot(kind = 'bar', legend = True, alpha =0.5)\n",
    "plt.title(\"Top 25 best rated Products\")"
   ]
  },
  {
   "cell_type": "code",
   "execution_count": null,
   "metadata": {},
   "outputs": [],
   "source": [
    "trainingSet[['Score', 'ProductId']].groupby('ProductId').mean().nsmallest(25, 'Score').plot(kind = 'bar', legend = True, alpha =0.5)\n",
    "plt.title(\"Top 25 worst rated Products\")"
   ]
  },
  {
   "cell_type": "code",
   "execution_count": null,
   "metadata": {
    "scrolled": false
   },
   "outputs": [],
   "source": [
    "#trainingSet[trainingSet['UserId'].isin(trainingSet['UserId'].value_counts().nsmallest(25).index.tolist())].plot.bar()#'Score', 'ProductId']].groupby('ProductId').mean().nsmallest(25, 'Score').plot(kind = 'bar', legend = True, alpha =0.5)\n",
    "#print(trainingSet['UserId'].value_counts().nsmallest(25).index.tolist)\n",
    "\n",
    "# fig,ax = plt.subplots()\n",
    "# reviews = []\n",
    "# for i in range(1,6):\n",
    "#     score = trainingSet.where(trainingSet['Score'] == float(i))\n",
    "#     reviews.append(score['SummaryLength'].dropna())\n",
    "\n",
    "# plt.hist(reviews, bins=10,label=list(range(1,6)))\n",
    "# ax.legend(loc='upper left')\n",
    "# plt.title('Summary length per Score')\n",
    "# plt.show\n",
    "\n",
    "topWords = []\n",
    "for i in range(1,6):\n",
    "    words = pd.Series(word_tokenize(' '.join(trainingSet.where(trainingSet['Score'] == float(i))['Summary'].dropna()).lower())).value_counts()\n",
    "    topWordsForScore = words.where(~words.index.isin(stopwords.words()))\n",
    "    print(\"Top 100 words for score = \", i)\n",
    "    print(topWordsForScore.nlargest(15).index.tolist())\n",
    "    print()\n",
    "    topWords.append(topWordsForScore)\n",
    "    \n",
    "for i in range(len(topWords)):\n",
    "    fig, ax = plt.subplots()\n",
    "    allExcepti = topWords[:i] + topWords[i+1:]\n",
    "    flattened = pd.concat(allExcepti)\n",
    "    topWords[i] = topWords[i].where(~topWords[i].index.isin(flattened.nlargest(10).index.tolist()))\n",
    "    print(\"Top 100 words sort of unique to Score = \", i+1)\n",
    "    print(topWords[i].nlargest(10).index.tolist())\n",
    "    print()\n",
    "    topWords[i].nlargest(10).plot(kind = 'bar',ax=ax)\n",
    "    plt.title(\"Top 100 word counts unique to Score =\" + str(i+1))\n",
    "    plt.show()\n",
    "    \n"
   ]
  },
  {
   "cell_type": "code",
   "execution_count": null,
   "metadata": {},
   "outputs": [],
   "source": [
    "trainingSet[['Score', 'HelpfulnessNumerator']].groupby('Score').mean().plot.bar()\n",
    "plt.title(\"Mean Helpfulness Numerator per Score\")"
   ]
  },
  {
   "cell_type": "code",
   "execution_count": null,
   "metadata": {},
   "outputs": [],
   "source": [
    "#avg rating of the product with most reviews \n",
    "top_product = trainingSet['ProductId'].value_counts(sort=True).nlargest(10).keys()\n",
    "#print(top_product)\n",
    "\n",
    "i = 1\n",
    "for ids in top_product:\n",
    "    val = trainingSet[trainingSet['ProductId'] == ids]['Score'].value_counts()\n",
    "    print(str(i)+\".\", ids, 'ratings:')\n",
    "    print(val)\n",
    "    avg_rating = trainingSet[trainingSet['ProductId'] == ids]['Score'].mean()\n",
    "    print('average rating: ',round(avg_rating,2))\n",
    "    print()\n",
    "    i+=1\n",
    "    \n",
    "#labels = trainingSet[trainingSet['ProductId'] == ids]['Score'].value_counts().keys() # ratings 1 ~ 5\n",
    "\n",
    "'''\n",
    "labels = top_product # ratings 1 ~ 5\n",
    "\n",
    "men_means = [20, 35, 30, 35, 27]\n",
    "women_means = [25, 32, 34, 20, 25]\n",
    "men_means1 = [22, 33, 34, 37, 28]\n",
    "women_means1 = [34, 23, 35, 24, 23]\n",
    "men_std = [2, 3, 4, 1, 2]\n",
    "women_std = [3, 5, 2, 3, 3]\n",
    "width = 0.35       # the width of the bars: can also be len(x) sequence\n",
    "\n",
    "fig, ax = plt.subplots()\n",
    "ax.bar(labels, men_means, width, label='Men')\n",
    "ax.bar(labels, women_means, width, bottom=men_means,\n",
    "       label='Women')\n",
    "ax.bar(labels, men_means1, width, label='Men')\n",
    "ax.bar(labels, women_means1, width, bottom=men_means,\n",
    "       label='Women')\n",
    "ax.bar(labels, men_means, width, label='Men')\n",
    "ax.set_ylabel('Scores')\n",
    "ax.set_title('Scores by group and gender')\n",
    "ax.legend()\n",
    "plt.show()\n",
    "'''\n",
    "\n",
    "#ratings = trainingSet[trainingSet['ProductId'] == 'B003EYVXV4']['Score'].value_counts()\n",
    "#print(ratings)\n",
    "#avg = trainingSet[trainingSet['ProductId'] == 'B003EYVXV4']['Score'].mean()\n",
    "#print(\"Average rating: \",avg)"
   ]
  },
  {
   "cell_type": "markdown",
   "metadata": {},
   "source": [
    "# Data Preprocessing"
   ]
  },
  {
   "cell_type": "code",
   "execution_count": 3,
   "metadata": {},
   "outputs": [
    {
     "name": "stdout",
     "output_type": "stream",
     "text": [
      "Id                            0\n",
      "ProductId                     0\n",
      "UserId                        0\n",
      "HelpfulnessNumerator          0\n",
      "HelpfulnessDenominator        0\n",
      "Score                     21825\n",
      "Time                          0\n",
      "Summary                       2\n",
      "Text                         11\n",
      "Dislike                       0\n",
      "dtype: int64\n",
      "After removing the nan\n",
      "Id                            0\n",
      "ProductId                     0\n",
      "UserId                        0\n",
      "HelpfulnessNumerator          0\n",
      "HelpfulnessDenominator        0\n",
      "Score                     21825\n",
      "Time                          0\n",
      "Summary                       0\n",
      "Text                          0\n",
      "Dislike                       0\n",
      "dtype: int64\n"
     ]
    }
   ],
   "source": [
    "# Inversitgate the missing values \n",
    "#print(\"# of missing values for each columns:\")\n",
    "#print(trainingSet.isna().sum())\n",
    "\n",
    "# We do not want to delete the whole row with missing values\n",
    "# Because there might be some crucial information in the other columns\n",
    "# So we simply replace with empty string \n",
    "\n",
    "print(trainingSet.isna().sum())\n",
    "#trainingSet = trainingSet[~pd.isnull(trainingSet['Text'])] #Delete the rows with nan \n",
    "trainingSet['Text'].loc[trainingSet['Text'].isna()] = ''#trainingSet['Summary'].loc[trainingSet['Text'].isna()]\n",
    "trainingSet['Summary'].loc[trainingSet['Summary'].isna()] = ''\n",
    "trainingSet[\"Text\"] = trainingSet[\"Text\"].str.lower()\n",
    "trainingSet[\"Text\"] = trainingSet[\"Text\"].str.replace(r\"[^a-zA-Z ]+\", \"\").str.strip()\n",
    "print(\"After removing the nan\")\n",
    "print(trainingSet.isna().sum())\n",
    "\n",
    "\n"
   ]
  },
  {
   "cell_type": "code",
   "execution_count": 7,
   "metadata": {},
   "outputs": [
    {
     "name": "stdout",
     "output_type": "stream",
     "text": [
      "   Id   ProductId          UserId  HelpfulnessNumerator  \\\n",
      "0   0  0005019281   ADZPIG9QOCDG5                     0   \n",
      "1   1  0005019281  A35947ZP82G7JH                     0   \n",
      "2   2  0005019281  A3UORV8A9D5L2E                     0   \n",
      "3   3  0005019281  A1VKW06X1O2X7V                     0   \n",
      "4   4  0005019281  A3R27T4HADWFFJ                     0   \n",
      "\n",
      "   HelpfulnessDenominator  Score        Time  \\\n",
      "0                       0    4.0  1203984000   \n",
      "1                       0    3.0  1388361600   \n",
      "2                       0    3.0  1388361600   \n",
      "3                       0    5.0  1202860800   \n",
      "4                       0    4.0  1387670400   \n",
      "\n",
      "                                        Summary  \\\n",
      "0                     good version of a classic   \n",
      "1                        Good but not as moving   \n",
      "2         Winkler's Performance was ok at best!   \n",
      "3  It's an enjoyable twist on the classic story   \n",
      "4                              Best Scrooge yet   \n",
      "\n",
      "                                                Text  \n",
      "0  this is a charming version of the classic dick...  \n",
      "1  it was good but not as emotionally moving as t...  \n",
      "2  don t get me wrong  winkler is a wonderful cha...  \n",
      "3  henry winkler is very good in this twist on th...  \n",
      "4  this is one of the best scrooge movies out   h...  \n"
     ]
    }
   ],
   "source": [
    "print(trainingSet.head())"
   ]
  },
  {
   "cell_type": "code",
   "execution_count": null,
   "metadata": {},
   "outputs": [],
   "source": [
    "# Vectorize the texts \n",
    "\n",
    "# vectorizer = TfidfVectorizer(input='content', analyzer='word', stop_words='english').fit(X_train['Text'])\n",
    "\n",
    "# X_train_vect = vectorizer.transform(X_train['Text'])\n",
    "# X_train_df = pd.DataFrame(X_train_vect.toarray(), columns=vectorizer.get_feature_names()).set_index(X_train.index.values)\n",
    "# X_train_with_tfidf = X_train.join(X_train_df)\n",
    "\n",
    "# # now apply that same set of features to X_submission\n",
    "# X_submission_vect = vectorizer.transform(X_submission['Text'])\n",
    "# X_submission_df = pd.DataFrame(X_submission_vect.toarray(), columns=vectorizer.get_feature_names()).set_index(X_submission.index.values)\n",
    "# X_submission_with_tfidf = X_submission.join(X_submission_df)\n",
    "\n",
    "\n"
   ]
  },
  {
   "cell_type": "code",
   "execution_count": 4,
   "metadata": {},
   "outputs": [
    {
     "name": "stdout",
     "output_type": "stream",
     "text": [
      "Index(['Id', 'ProductId', 'UserId', 'HelpfulnessNumerator',\n",
      "       'HelpfulnessDenominator', 'Time', 'Summary', 'Text', 'Dislike',\n",
      "       'Score'],\n",
      "      dtype='object')\n"
     ]
    }
   ],
   "source": [
    "X_test = pd.merge(trainingSet, testingSet, left_on='Id', right_on='Id')\n",
    "# print(X_test.columns)\n",
    "\n",
    "X_test = X_test.drop(columns=['Score_x'])\n",
    "X_test = X_test.rename(columns={'Score_y': 'Score'})\n",
    "\n",
    "print(X_test.columns)\n",
    "X_test.to_csv(\"./data/X_submission.csv\", index=False)\n",
    "\n",
    "X_train = trainingSet[trainingSet['Score'].notnull()]\n",
    "# print(trainingSet.shape)\n",
    "# print(X_train.shape)\n",
    "X_train.to_csv(\"./data/X_train.csv\", index=False)\n"
   ]
  },
  {
   "cell_type": "code",
   "execution_count": 5,
   "metadata": {},
   "outputs": [
    {
     "name": "stdout",
     "output_type": "stream",
     "text": [
      "    Id  Score\n",
      "0  186    4.0\n",
      "1  243    4.0\n",
      "2  303    4.0\n",
      "3  534    4.0\n",
      "4  558    4.0\n"
     ]
    }
   ],
   "source": [
    "prediction = pd.read_csv(\"./data/X_submission.csv\")\n",
    "prediction['Score'] = 4.0\n",
    "#print(prediction['Score'])\n",
    "submission = prediction[['Id', 'Score']]\n",
    "print(submission.head())\n",
    "submission.to_csv(\"./data/submission.csv\", index=False)\n"
   ]
  },
  {
   "cell_type": "code",
   "execution_count": 7,
   "metadata": {},
   "outputs": [
    {
     "name": "stderr",
     "output_type": "stream",
     "text": [
      "C:\\Users\\Soo Whan Park\\Anaconda3\\lib\\site-packages\\sklearn\\svm\\base.py:929: ConvergenceWarning: Liblinear failed to converge, increase the number of iterations.\n",
      "  \"the number of iterations.\", ConvergenceWarning)\n",
      "C:\\Users\\Soo Whan Park\\Anaconda3\\lib\\site-packages\\sklearn\\linear_model\\logistic.py:432: FutureWarning: Default solver will be changed to 'lbfgs' in 0.22. Specify a solver to silence this warning.\n",
      "  FutureWarning)\n",
      "C:\\Users\\Soo Whan Park\\Anaconda3\\lib\\site-packages\\sklearn\\linear_model\\logistic.py:469: FutureWarning: Default multi_class will be changed to 'auto' in 0.22. Specify the multi_class option to silence this warning.\n",
      "  \"this warning.\", FutureWarning)\n"
     ]
    },
    {
     "name": "stdout",
     "output_type": "stream",
     "text": [
      "              precision    recall  f1-score   support\n",
      "\n",
      "         1.0       0.65      0.63      0.64      5017\n",
      "         2.0       0.23      0.25      0.24      2081\n",
      "         3.0       0.20      0.24      0.22      2080\n",
      "         4.0       0.31      0.33      0.32      3204\n",
      "         5.0       0.69      0.63      0.66      7757\n",
      "\n",
      "    accuracy                           0.50     20139\n",
      "   macro avg       0.42      0.42      0.42     20139\n",
      "weighted avg       0.52      0.50      0.51     20139\n",
      "\n",
      "              precision    recall  f1-score   support\n",
      "\n",
      "         1.0       0.69      0.70      0.69      5017\n",
      "         2.0       0.27      0.26      0.27      2081\n",
      "         3.0       0.25      0.26      0.26      2080\n",
      "         4.0       0.36      0.35      0.36      3204\n",
      "         5.0       0.72      0.72      0.72      7757\n",
      "\n",
      "    accuracy                           0.56     20139\n",
      "   macro avg       0.46      0.46      0.46     20139\n",
      "weighted avg       0.56      0.56      0.56     20139\n",
      "\n"
     ]
    }
   ],
   "source": [
    "import seaborn as sns\n",
    "import matplotlib.pyplot as plt\n",
    "import numpy as np\n",
    "from sklearn.neighbors import KNeighborsClassifier, NearestNeighbors, KDTree, NearestCentroid, RadiusNeighborsClassifier\n",
    "from sklearn.linear_model import LogisticRegression, LinearRegression\n",
    "from sklearn.model_selection import train_test_split\n",
    "from sklearn.metrics import mean_squared_error, confusion_matrix\n",
    "from sklearn.feature_extraction.text import TfidfVectorizer, CountVectorizer\n",
    "from sklearn.model_selection import train_test_split\n",
    "from sklearn.svm import LinearSVC\n",
    "from sklearn.metrics import classification_report\n",
    "\n",
    "# Load files into DataFrames\n",
    "X_train = pd.read_csv(\"./data/X_train.csv\")\n",
    "X_submission = pd.read_csv(\"./data/X_submission.csv\")\n",
    "\n",
    "\n",
    "vectorizer = TfidfVectorizer(max_features = 20000, stop_words='english', ngram_range=(1,3), analyzer = 'word')\n",
    "#X_train = vectorizer.fit_transform(X_train['Text'])\n",
    "y = X_train['Score']\n",
    "X_train = vectorizer.fit_transform(X_train['Text'].values.astype('U'))\n",
    "\n",
    "# Split training set into training and testing set\n",
    "X_train, X_test, Y_train, Y_test = train_test_split(X_train,y,test_size=0.2,random_state=0)\n",
    "\n",
    "\n",
    "# now apply that same set of features to X_submission\n",
    "#X_submission_vect = vectorizer.transform(X_submission['Text'])\n",
    "#X_submission_df = pd.DataFrame(np.array(X_submission_vect), columns=vectorizer.get_feature_names()).set_index(X_submission.index.values)\n",
    "X_submission_with_tfidf = vectorizer.fit_transform(X_submission['Text'].values.astype('U'))\n",
    "'''\n",
    "# Process the DataFrames\n",
    "# This is where you can do more feature extraction\n",
    "X_train_processed = X_train_with_tfidf.drop(columns=['Id', 'ProductId', 'UserId', 'Summary'])\n",
    "X_test_processed = X_test.drop(columns=['Id', 'ProductId', 'UserId', 'Summary'])\n",
    "X_submission_processed = X_submission_with_tfidf.drop(columns=['Id', 'ProductId', 'UserId', 'Summary', 'Score'])\n",
    "'''\n",
    "\n",
    "# Learn the model\n",
    "model = LinearSVC(C = 15, class_weight =\"balanced\")\n",
    "#model = KNeighborsClassifier(n_neighbors=3).fit(X_train_processed, Y_train)\n",
    "model.fit(X_train,Y_train)\n",
    "#model = RadiusNeighborsClassifier.fit(X_train_processed, Y_train)\n",
    "\n",
    "# Predict the score using the model\n",
    "Y_test_predictions = model.predict(X_test)\n",
    "\n",
    "print(classification_report(Y_test,Y_test_predictions))\n",
    "# X_submission_with_tfidf['Score'] = model.predict(X_submission_with_tfidf)\n",
    "\n",
    "model = LogisticRegression(C = 10, class_weight =\"balanced\")\n",
    "#model = KNeighborsClassifier(n_neighbors=3).fit(X_train_processed, Y_train)\n",
    "model.fit(X_train,Y_train)\n",
    "#model = RadiusNeighborsClassifier.fit(X_train_processed, Y_train)\n",
    "\n",
    "# Predict the score using the model\n",
    "Y_test_predictions = model.predict(X_test)\n",
    "\n",
    "print(classification_report(Y_test,Y_test_predictions))\n",
    "\n",
    "# # Evaluate your model on the testing set\n",
    "# print(\"RMSE on testing set = \", mean_squared_error(Y_test, Y_test_predictions))\n",
    "\n",
    "# # Plot a confusion matrix\n",
    "# cm = confusion_matrix(Y_test, Y_test_predictions)\n",
    "\n",
    "# sns.heatmap(cm, annot=True)\n",
    "# plt.title('Confusion matrix of the classifier')\n",
    "# plt.xlabel('Predicted')\n",
    "# plt.ylabel('True')\n",
    "# plt.show()\n",
    "\n",
    "# # # Create the submission file\n",
    "# submission = X_submission_with_tfidf[['Id', 'Score']]\n",
    "# submission.to_csv(\"./data/submission.csv\", index=False)"
   ]
  },
  {
   "cell_type": "code",
   "execution_count": 21,
   "metadata": {},
   "outputs": [
    {
     "name": "stdout",
     "output_type": "stream",
     "text": [
      "              precision    recall  f1-score   support\n",
      "\n",
      "         1.0       0.71      0.65      0.68      3669\n",
      "         2.0       0.26      0.37      0.31      1303\n",
      "         3.0       0.24      0.32      0.27      1326\n",
      "         4.0       0.37      0.40      0.39      2328\n",
      "         5.0       0.76      0.63      0.69      5579\n",
      "\n",
      "    accuracy                           0.55     14205\n",
      "   macro avg       0.47      0.48      0.47     14205\n",
      "weighted avg       0.59      0.55      0.56     14205\n",
      "\n"
     ]
    }
   ],
   "source": [
    "model = LogisticRegression(solver = 'sag',multi_class = 'multinomial',class_weight =\"balanced\")\n",
    "#model = KNeighborsClassifier(n_neighbors=3).fit(X_train_processed, Y_train)\n",
    "model.fit(X_train,Y_train)\n",
    "#model = RadiusNeighborsClassifier.fit(X_train_processed, Y_train)\n",
    "\n",
    "# Predict the score using the model\n",
    "Y_test_predictions = model.predict(X_test)\n",
    "\n",
    "print(classification_report(Y_test,Y_test_predictions))"
   ]
  },
  {
   "cell_type": "code",
   "execution_count": 7,
   "metadata": {},
   "outputs": [
    {
     "name": "stdout",
     "output_type": "stream",
     "text": [
      "RMSE on testing set =  1.5368687621033814\n"
     ]
    },
    {
     "data": {
      "image/png": "[encoded data removed]",
      "text/plain": [
       "<Figure size 432x288 with 2 Axes>"
      ]
     },
     "metadata": {
      "needs_background": "light"
     },
     "output_type": "display_data"
    }
   ],
   "source": [
    "# Evaluate your model on the testing set\n",
    "print(\"RMSE on testing set = \", mean_squared_error(Y_test, Y_test_predictions))\n",
    "\n",
    "# Plot a confusion matrix\n",
    "cm = confusion_matrix(Y_test, Y_test_predictions)\n",
    "\n",
    "sns.heatmap(cm, annot=True)\n",
    "plt.title('Confusion matrix of the classifier')\n",
    "plt.xlabel('Predicted')\n",
    "plt.ylabel('True')\n",
    "plt.show()"
   ]
  },
  {
   "cell_type": "code",
   "execution_count": 15,
   "metadata": {},
   "outputs": [
    {
     "name": "stdout",
     "output_type": "stream",
     "text": [
      "RMSE on testing set =  1.8550510383667722\n"
     ]
    },
    {
     "data": {
      "image/png": "[encoded data removed]",
      "text/plain": [
       "<Figure size 432x288 with 2 Axes>"
      ]
     },
     "metadata": {
      "needs_background": "light"
     },
     "output_type": "display_data"
    }
   ],
   "source": [
    "# Evaluate your model on the testing set\n",
    "print(\"RMSE on testing set = \", mean_squared_error(Y_test, Y_test_predictions))\n",
    "\n",
    "# Plot a confusion matrix\n",
    "cm = confusion_matrix(Y_test, Y_test_predictions)\n",
    "\n",
    "sns.heatmap(cm, annot=True)\n",
    "plt.title('Confusion matrix of the classifier')\n",
    "plt.xlabel('Predicted')\n",
    "plt.ylabel('True')\n",
    "plt.show()\n",
    "\n",
    "# # Create the submission file\n",
    "#submission = X_submission_with_tfidf[['Id', 'Score']]\n",
    "#submission.to_csv(\"./data/submission.csv\", index=False)"
   ]
  },
  {
   "cell_type": "code",
   "execution_count": 24,
   "metadata": {},
   "outputs": [],
   "source": [
    "X_submission = vectorizer.fit_transform(X_submission['Text'].values.astype('U'))\n",
    "Y_test_predictions = model.predict(X_submission)\n"
   ]
  },
  {
   "cell_type": "code",
   "execution_count": 28,
   "metadata": {},
   "outputs": [
    {
     "ename": "ValueError",
     "evalue": "Found input variables with inconsistent numbers of samples: [14205, 15322]",
     "output_type": "error",
     "traceback": [
      "\u001b[1;31m---------------------------------------------------------------------------\u001b[0m",
      "\u001b[1;31mValueError\u001b[0m                                Traceback (most recent call last)",
      "\u001b[1;32m<ipython-input-28-5e3ac31cca6a>\u001b[0m in \u001b[0;36m<module>\u001b[1;34m\u001b[0m\n\u001b[1;32m----> 1\u001b[1;33m \u001b[0mprint\u001b[0m\u001b[1;33m(\u001b[0m\u001b[1;34m\"RMSE on testing set = \"\u001b[0m\u001b[1;33m,\u001b[0m \u001b[0mmean_squared_error\u001b[0m\u001b[1;33m(\u001b[0m\u001b[0mY_test\u001b[0m\u001b[1;33m,\u001b[0m \u001b[0mY_test_predictions\u001b[0m\u001b[1;33m)\u001b[0m\u001b[1;33m)\u001b[0m\u001b[1;33m\u001b[0m\u001b[1;33m\u001b[0m\u001b[0m\n\u001b[0m\u001b[0;32m      2\u001b[0m \u001b[1;33m\u001b[0m\u001b[0m\n\u001b[0;32m      3\u001b[0m \u001b[1;31m# Plot a confusion matrix\u001b[0m\u001b[1;33m\u001b[0m\u001b[1;33m\u001b[0m\u001b[1;33m\u001b[0m\u001b[0m\n\u001b[0;32m      4\u001b[0m \u001b[0mcm\u001b[0m \u001b[1;33m=\u001b[0m \u001b[0mconfusion_matrix\u001b[0m\u001b[1;33m(\u001b[0m\u001b[0mY_test\u001b[0m\u001b[1;33m,\u001b[0m \u001b[0mY_test_predictions\u001b[0m\u001b[1;33m)\u001b[0m\u001b[1;33m\u001b[0m\u001b[1;33m\u001b[0m\u001b[0m\n\u001b[0;32m      5\u001b[0m \u001b[1;33m\u001b[0m\u001b[0m\n",
      "\u001b[1;32m~\\Anaconda3\\lib\\site-packages\\sklearn\\metrics\\regression.py\u001b[0m in \u001b[0;36mmean_squared_error\u001b[1;34m(y_true, y_pred, sample_weight, multioutput)\u001b[0m\n\u001b[0;32m    239\u001b[0m     \"\"\"\n\u001b[0;32m    240\u001b[0m     y_type, y_true, y_pred, multioutput = _check_reg_targets(\n\u001b[1;32m--> 241\u001b[1;33m         y_true, y_pred, multioutput)\n\u001b[0m\u001b[0;32m    242\u001b[0m     \u001b[0mcheck_consistent_length\u001b[0m\u001b[1;33m(\u001b[0m\u001b[0my_true\u001b[0m\u001b[1;33m,\u001b[0m \u001b[0my_pred\u001b[0m\u001b[1;33m,\u001b[0m \u001b[0msample_weight\u001b[0m\u001b[1;33m)\u001b[0m\u001b[1;33m\u001b[0m\u001b[1;33m\u001b[0m\u001b[0m\n\u001b[0;32m    243\u001b[0m     output_errors = np.average((y_true - y_pred) ** 2, axis=0,\n",
      "\u001b[1;32m~\\Anaconda3\\lib\\site-packages\\sklearn\\metrics\\regression.py\u001b[0m in \u001b[0;36m_check_reg_targets\u001b[1;34m(y_true, y_pred, multioutput)\u001b[0m\n\u001b[0;32m     75\u001b[0m \u001b[1;33m\u001b[0m\u001b[0m\n\u001b[0;32m     76\u001b[0m     \"\"\"\n\u001b[1;32m---> 77\u001b[1;33m     \u001b[0mcheck_consistent_length\u001b[0m\u001b[1;33m(\u001b[0m\u001b[0my_true\u001b[0m\u001b[1;33m,\u001b[0m \u001b[0my_pred\u001b[0m\u001b[1;33m)\u001b[0m\u001b[1;33m\u001b[0m\u001b[1;33m\u001b[0m\u001b[0m\n\u001b[0m\u001b[0;32m     78\u001b[0m     \u001b[0my_true\u001b[0m \u001b[1;33m=\u001b[0m \u001b[0mcheck_array\u001b[0m\u001b[1;33m(\u001b[0m\u001b[0my_true\u001b[0m\u001b[1;33m,\u001b[0m \u001b[0mensure_2d\u001b[0m\u001b[1;33m=\u001b[0m\u001b[1;32mFalse\u001b[0m\u001b[1;33m)\u001b[0m\u001b[1;33m\u001b[0m\u001b[1;33m\u001b[0m\u001b[0m\n\u001b[0;32m     79\u001b[0m     \u001b[0my_pred\u001b[0m \u001b[1;33m=\u001b[0m \u001b[0mcheck_array\u001b[0m\u001b[1;33m(\u001b[0m\u001b[0my_pred\u001b[0m\u001b[1;33m,\u001b[0m \u001b[0mensure_2d\u001b[0m\u001b[1;33m=\u001b[0m\u001b[1;32mFalse\u001b[0m\u001b[1;33m)\u001b[0m\u001b[1;33m\u001b[0m\u001b[1;33m\u001b[0m\u001b[0m\n",
      "\u001b[1;32m~\\Anaconda3\\lib\\site-packages\\sklearn\\utils\\validation.py\u001b[0m in \u001b[0;36mcheck_consistent_length\u001b[1;34m(*arrays)\u001b[0m\n\u001b[0;32m    203\u001b[0m     \u001b[1;32mif\u001b[0m \u001b[0mlen\u001b[0m\u001b[1;33m(\u001b[0m\u001b[0muniques\u001b[0m\u001b[1;33m)\u001b[0m \u001b[1;33m>\u001b[0m \u001b[1;36m1\u001b[0m\u001b[1;33m:\u001b[0m\u001b[1;33m\u001b[0m\u001b[1;33m\u001b[0m\u001b[0m\n\u001b[0;32m    204\u001b[0m         raise ValueError(\"Found input variables with inconsistent numbers of\"\n\u001b[1;32m--> 205\u001b[1;33m                          \" samples: %r\" % [int(l) for l in lengths])\n\u001b[0m\u001b[0;32m    206\u001b[0m \u001b[1;33m\u001b[0m\u001b[0m\n\u001b[0;32m    207\u001b[0m \u001b[1;33m\u001b[0m\u001b[0m\n",
      "\u001b[1;31mValueError\u001b[0m: Found input variables with inconsistent numbers of samples: [14205, 15322]"
     ]
    }
   ],
   "source": [
    "print(\"RMSE on testing set = \", mean_squared_error(Y_test, Y_test_predictions))\n",
    "\n",
    "# Plot a confusion matrix\n",
    "cm = confusion_matrix(Y_test, Y_test_predictions)\n",
    "\n",
    "sns.heatmap(cm, annot=True)\n",
    "plt.title('Confusion matrix of the classifier')\n",
    "plt.xlabel('Predicted')\n",
    "plt.ylabel('True')\n",
    "plt.show()"
   ]
  },
  {
   "cell_type": "code",
   "execution_count": 27,
   "metadata": {},
   "outputs": [
    {
     "ename": "IndexError",
     "evalue": "invalid index",
     "output_type": "error",
     "traceback": [
      "\u001b[1;31m---------------------------------------------------------------------------\u001b[0m",
      "\u001b[1;31mValueError\u001b[0m                                Traceback (most recent call last)",
      "\u001b[1;32m~\\Anaconda3\\lib\\site-packages\\scipy\\sparse\\csr.py\u001b[0m in \u001b[0;36masindices\u001b[1;34m(x)\u001b[0m\n\u001b[0;32m    243\u001b[0m                 \u001b[1;32mif\u001b[0m \u001b[0midx_dtype\u001b[0m \u001b[1;33m!=\u001b[0m \u001b[0mx\u001b[0m\u001b[1;33m.\u001b[0m\u001b[0mdtype\u001b[0m\u001b[1;33m:\u001b[0m\u001b[1;33m\u001b[0m\u001b[1;33m\u001b[0m\u001b[0m\n\u001b[1;32m--> 244\u001b[1;33m                     \u001b[0mx\u001b[0m \u001b[1;33m=\u001b[0m \u001b[0mx\u001b[0m\u001b[1;33m.\u001b[0m\u001b[0mastype\u001b[0m\u001b[1;33m(\u001b[0m\u001b[0midx_dtype\u001b[0m\u001b[1;33m)\u001b[0m\u001b[1;33m\u001b[0m\u001b[1;33m\u001b[0m\u001b[0m\n\u001b[0m\u001b[0;32m    245\u001b[0m             \u001b[1;32mexcept\u001b[0m \u001b[0mException\u001b[0m\u001b[1;33m:\u001b[0m\u001b[1;33m\u001b[0m\u001b[1;33m\u001b[0m\u001b[0m\n",
      "\u001b[1;31mValueError\u001b[0m: invalid literal for int() with base 10: 'Id'",
      "\nDuring handling of the above exception, another exception occurred:\n",
      "\u001b[1;31mIndexError\u001b[0m                                Traceback (most recent call last)",
      "\u001b[1;32m<ipython-input-27-21384af20c09>\u001b[0m in \u001b[0;36m<module>\u001b[1;34m\u001b[0m\n\u001b[1;32m----> 1\u001b[1;33m \u001b[0msubmission\u001b[0m \u001b[1;33m=\u001b[0m \u001b[0mpd\u001b[0m\u001b[1;33m.\u001b[0m\u001b[0mDataFrame\u001b[0m\u001b[1;33m(\u001b[0m\u001b[0mX_submission\u001b[0m\u001b[1;33m[\u001b[0m\u001b[1;33m[\u001b[0m\u001b[1;34m'Id'\u001b[0m\u001b[1;33m,\u001b[0m \u001b[1;34m'Score'\u001b[0m\u001b[1;33m]\u001b[0m\u001b[1;33m]\u001b[0m\u001b[1;33m)\u001b[0m\u001b[1;33m\u001b[0m\u001b[1;33m\u001b[0m\u001b[0m\n\u001b[0m\u001b[0;32m      2\u001b[0m \u001b[0msubmission\u001b[0m\u001b[1;33m.\u001b[0m\u001b[0mto_csv\u001b[0m\u001b[1;33m(\u001b[0m\u001b[1;34m\"./data/submission.csv\"\u001b[0m\u001b[1;33m,\u001b[0m \u001b[0mindex\u001b[0m\u001b[1;33m=\u001b[0m\u001b[1;32mFalse\u001b[0m\u001b[1;33m)\u001b[0m\u001b[1;33m\u001b[0m\u001b[1;33m\u001b[0m\u001b[0m\n",
      "\u001b[1;32m~\\Anaconda3\\lib\\site-packages\\scipy\\sparse\\csr.py\u001b[0m in \u001b[0;36m__getitem__\u001b[1;34m(self, key)\u001b[0m\n\u001b[0;32m    314\u001b[0m             \u001b[1;31m# [[1,2],??]\u001b[0m\u001b[1;33m\u001b[0m\u001b[1;33m\u001b[0m\u001b[1;33m\u001b[0m\u001b[0m\n\u001b[0;32m    315\u001b[0m             \u001b[1;32mif\u001b[0m \u001b[0misintlike\u001b[0m\u001b[1;33m(\u001b[0m\u001b[0mcol\u001b[0m\u001b[1;33m)\u001b[0m \u001b[1;32mor\u001b[0m \u001b[0misinstance\u001b[0m\u001b[1;33m(\u001b[0m\u001b[0mcol\u001b[0m\u001b[1;33m,\u001b[0m\u001b[0mslice\u001b[0m\u001b[1;33m)\u001b[0m\u001b[1;33m:\u001b[0m\u001b[1;33m\u001b[0m\u001b[1;33m\u001b[0m\u001b[0m\n\u001b[1;32m--> 316\u001b[1;33m                 \u001b[0mP\u001b[0m \u001b[1;33m=\u001b[0m \u001b[0mextractor\u001b[0m\u001b[1;33m(\u001b[0m\u001b[0mrow\u001b[0m\u001b[1;33m,\u001b[0m \u001b[0mself\u001b[0m\u001b[1;33m.\u001b[0m\u001b[0mshape\u001b[0m\u001b[1;33m[\u001b[0m\u001b[1;36m0\u001b[0m\u001b[1;33m]\u001b[0m\u001b[1;33m)\u001b[0m     \u001b[1;31m# [[1,2],j] or [[1,2],1:2]\u001b[0m\u001b[1;33m\u001b[0m\u001b[1;33m\u001b[0m\u001b[0m\n\u001b[0m\u001b[0;32m    317\u001b[0m                 \u001b[0mextracted\u001b[0m \u001b[1;33m=\u001b[0m \u001b[0mP\u001b[0m \u001b[1;33m*\u001b[0m \u001b[0mself\u001b[0m\u001b[1;33m\u001b[0m\u001b[1;33m\u001b[0m\u001b[0m\n\u001b[0;32m    318\u001b[0m                 \u001b[1;32mif\u001b[0m \u001b[0mcol\u001b[0m \u001b[1;33m==\u001b[0m \u001b[0mslice\u001b[0m\u001b[1;33m(\u001b[0m\u001b[1;32mNone\u001b[0m\u001b[1;33m,\u001b[0m \u001b[1;32mNone\u001b[0m\u001b[1;33m,\u001b[0m \u001b[1;32mNone\u001b[0m\u001b[1;33m)\u001b[0m\u001b[1;33m:\u001b[0m\u001b[1;33m\u001b[0m\u001b[1;33m\u001b[0m\u001b[0m\n",
      "\u001b[1;32m~\\Anaconda3\\lib\\site-packages\\scipy\\sparse\\csr.py\u001b[0m in \u001b[0;36mextractor\u001b[1;34m(indices, N)\u001b[0m\n\u001b[0;32m    266\u001b[0m             \u001b[0mslicing\u001b[0m \u001b[0mof\u001b[0m \u001b[0mthe\u001b[0m \u001b[0mform\u001b[0m \u001b[0mself\u001b[0m\u001b[1;33m[\u001b[0m\u001b[1;33m[\u001b[0m\u001b[1;36m1\u001b[0m\u001b[1;33m,\u001b[0m\u001b[1;36m2\u001b[0m\u001b[1;33m,\u001b[0m\u001b[1;36m3\u001b[0m\u001b[1;33m]\u001b[0m\u001b[1;33m,\u001b[0m\u001b[1;33m:\u001b[0m\u001b[1;33m]\u001b[0m\u001b[1;33m\u001b[0m\u001b[1;33m\u001b[0m\u001b[0m\n\u001b[0;32m    267\u001b[0m             \"\"\"\n\u001b[1;32m--> 268\u001b[1;33m             \u001b[0mindices\u001b[0m \u001b[1;33m=\u001b[0m \u001b[0masindices\u001b[0m\u001b[1;33m(\u001b[0m\u001b[0mindices\u001b[0m\u001b[1;33m)\u001b[0m\u001b[1;33m.\u001b[0m\u001b[0mcopy\u001b[0m\u001b[1;33m(\u001b[0m\u001b[1;33m)\u001b[0m\u001b[1;33m\u001b[0m\u001b[1;33m\u001b[0m\u001b[0m\n\u001b[0m\u001b[0;32m    269\u001b[0m \u001b[1;33m\u001b[0m\u001b[0m\n\u001b[0;32m    270\u001b[0m             \u001b[0mmin_indx\u001b[0m\u001b[1;33m,\u001b[0m \u001b[0mmax_indx\u001b[0m \u001b[1;33m=\u001b[0m \u001b[0mcheck_bounds\u001b[0m\u001b[1;33m(\u001b[0m\u001b[0mindices\u001b[0m\u001b[1;33m,\u001b[0m \u001b[0mN\u001b[0m\u001b[1;33m)\u001b[0m\u001b[1;33m\u001b[0m\u001b[1;33m\u001b[0m\u001b[0m\n",
      "\u001b[1;32m~\\Anaconda3\\lib\\site-packages\\scipy\\sparse\\csr.py\u001b[0m in \u001b[0;36masindices\u001b[1;34m(x)\u001b[0m\n\u001b[0;32m    244\u001b[0m                     \u001b[0mx\u001b[0m \u001b[1;33m=\u001b[0m \u001b[0mx\u001b[0m\u001b[1;33m.\u001b[0m\u001b[0mastype\u001b[0m\u001b[1;33m(\u001b[0m\u001b[0midx_dtype\u001b[0m\u001b[1;33m)\u001b[0m\u001b[1;33m\u001b[0m\u001b[1;33m\u001b[0m\u001b[0m\n\u001b[0;32m    245\u001b[0m             \u001b[1;32mexcept\u001b[0m \u001b[0mException\u001b[0m\u001b[1;33m:\u001b[0m\u001b[1;33m\u001b[0m\u001b[1;33m\u001b[0m\u001b[0m\n\u001b[1;32m--> 246\u001b[1;33m                 \u001b[1;32mraise\u001b[0m \u001b[0mIndexError\u001b[0m\u001b[1;33m(\u001b[0m\u001b[1;34m'invalid index'\u001b[0m\u001b[1;33m)\u001b[0m\u001b[1;33m\u001b[0m\u001b[1;33m\u001b[0m\u001b[0m\n\u001b[0m\u001b[0;32m    247\u001b[0m             \u001b[1;32melse\u001b[0m\u001b[1;33m:\u001b[0m\u001b[1;33m\u001b[0m\u001b[1;33m\u001b[0m\u001b[0m\n\u001b[0;32m    248\u001b[0m                 \u001b[1;32mreturn\u001b[0m \u001b[0mx\u001b[0m\u001b[1;33m\u001b[0m\u001b[1;33m\u001b[0m\u001b[0m\n",
      "\u001b[1;31mIndexError\u001b[0m: invalid index"
     ]
    }
   ],
   "source": [
    "submission = X_submission[['Id', 'Score']]\n",
    "submission.to_csv(\"./data/submission.csv\", index=False)"
   ]
  },
  {
   "cell_type": "code",
   "execution_count": null,
   "metadata": {},
   "outputs": [],
   "source": []
  }
 ],
 "metadata": {
  "kernelspec": {
   "display_name": "Python 3",
   "language": "python",
   "name": "python3"
  },
  "language_info": {
   "codemirror_mode": {
    "name": "ipython",
    "version": 3
   },
   "file_extension": ".py",
   "mimetype": "text/x-python",
   "name": "python",
   "nbconvert_exporter": "python",
   "pygments_lexer": "ipython3",
   "version": "3.7.3"
  }
 },
 "nbformat": 4,
 "nbformat_minor": 2
}
